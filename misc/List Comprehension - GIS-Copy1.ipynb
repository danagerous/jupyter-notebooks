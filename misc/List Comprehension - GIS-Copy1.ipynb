{
 "cells": [
  {
   "cell_type": "code",
   "execution_count": null,
   "metadata": {},
   "outputs": [],
   "source": [
    "from arcgis.gis import GIS"
   ]
  },
  {
   "cell_type": "code",
   "execution_count": 14,
   "metadata": {},
   "outputs": [],
   "source": [
    "from arcgis.features import FeatureLayer"
   ]
  },
  {
   "cell_type": "code",
   "execution_count": 2,
   "metadata": {},
   "outputs": [
    {
     "name": "stderr",
     "output_type": "stream",
     "text": [
      "Profile your_enterprise_profile does not have a password on file through keyring. If you are expecting this behavior (PKI or IWA authentication, entering password through run-time prompt, etc.), please ignore this message. If you would like to store your password in the your_enterprise_profile profile, run GIS(profile = 'your_enterprise_profile', password = ...). See the API doc for more details. (http://bit.ly/2CK2wG8)\n"
     ]
    }
   ],
   "source": [
    "gis = GIS(profile=\"your_enterprise_profile\")"
   ]
  },
  {
   "cell_type": "markdown",
   "metadata": {},
   "source": [
    "#### BEC lists for shallow, moderate and deep snowpack zones"
   ]
  },
  {
   "cell_type": "code",
   "execution_count": 3,
   "metadata": {},
   "outputs": [
    {
     "data": {
      "text/plain": [
       "arcgis.gis.ContentManager"
      ]
     },
     "execution_count": 3,
     "metadata": {},
     "output_type": "execute_result"
    }
   ],
   "source": [
    "type(gis.content)"
   ]
  },
  {
   "cell_type": "code",
   "execution_count": 4,
   "metadata": {},
   "outputs": [],
   "source": [
    "sList = ['BG','PP','IDFxh1','IDFxh1a','IDFxh2','IDFxh2a']\n",
    "mList = ['IDFdk1','IDFdk1a','IDFdk2','IDFdk3','IDFunk','MS']\n",
    "dList = ['ESSF','ICH','CWH']"
   ]
  },
  {
   "cell_type": "markdown",
   "metadata": {},
   "source": [
    "#### Merge all 3 BEC lists together"
   ]
  },
  {
   "cell_type": "code",
   "execution_count": 5,
   "metadata": {},
   "outputs": [],
   "source": [
    "mergeList = sList+mList+dList"
   ]
  },
  {
   "cell_type": "markdown",
   "metadata": {},
   "source": [
    "#### Print the list"
   ]
  },
  {
   "cell_type": "code",
   "execution_count": 6,
   "metadata": {},
   "outputs": [
    {
     "data": {
      "text/plain": [
       "['BG',\n",
       " 'PP',\n",
       " 'IDFxh1',\n",
       " 'IDFxh1a',\n",
       " 'IDFxh2',\n",
       " 'IDFxh2a',\n",
       " 'IDFdk1',\n",
       " 'IDFdk1a',\n",
       " 'IDFdk2',\n",
       " 'IDFdk3',\n",
       " 'IDFunk',\n",
       " 'MS',\n",
       " 'ESSF',\n",
       " 'ICH',\n",
       " 'CWH']"
      ]
     },
     "execution_count": 6,
     "metadata": {},
     "output_type": "execute_result"
    }
   ],
   "source": [
    "mergeList"
   ]
  },
  {
   "cell_type": "markdown",
   "metadata": {},
   "source": [
    "#### Now to use this list for any type of query we need to add a wildcard `%` to each item in my list because the attributes BG, PP, MS, ESSF contain up to 4 more characters in the spatial BEC table.\n",
    "#### This can be done with List Comprehension. In this case List comprehension creates a new list from an existing list\n",
    "- `x+'%'` is the output function\n",
    "- `x` is the variable\n",
    "- `mergeList` is the input set"
   ]
  },
  {
   "cell_type": "code",
   "execution_count": 7,
   "metadata": {},
   "outputs": [],
   "source": [
    "newList = [x+'%' for x in mergeList] "
   ]
  },
  {
   "cell_type": "markdown",
   "metadata": {},
   "source": [
    "#### Print the new list"
   ]
  },
  {
   "cell_type": "code",
   "execution_count": 8,
   "metadata": {},
   "outputs": [
    {
     "data": {
      "text/plain": [
       "['BG%',\n",
       " 'PP%',\n",
       " 'IDFxh1%',\n",
       " 'IDFxh1a%',\n",
       " 'IDFxh2%',\n",
       " 'IDFxh2a%',\n",
       " 'IDFdk1%',\n",
       " 'IDFdk1a%',\n",
       " 'IDFdk2%',\n",
       " 'IDFdk3%',\n",
       " 'IDFunk%',\n",
       " 'MS%',\n",
       " 'ESSF%',\n",
       " 'ICH%',\n",
       " 'CWH%']"
      ]
     },
     "execution_count": 8,
     "metadata": {},
     "output_type": "execute_result"
    }
   ],
   "source": [
    "newList"
   ]
  },
  {
   "cell_type": "code",
   "execution_count": 9,
   "metadata": {},
   "outputs": [],
   "source": [
    "bec = gis.content.search(\"Biogeoclimatic Ecosystem Classification ( BEC ) Map\", \n",
    "                                item_type=\"Feature Layer\")"
   ]
  },
  {
   "cell_type": "code",
   "execution_count": 10,
   "metadata": {},
   "outputs": [
    {
     "data": {
      "text/plain": [
       "[<Item title:\"CE - Supplemental - FS - BEC\" type:Feature Layer Collection owner:PFILIPPE_governmentofbc>,\n",
       " <Item title:\"Biogeoclimatic Ecosystem Classification ( BEC ) Map\" type:Feature Layer Collection owner:Province.Of.British.Columbia>,\n",
       " <Item title:\"Biogeoclimatic Zones - Generalized (1:2M)\" type:Feature Layer Collection owner:Province.Of.British.Columbia>,\n",
       " <Item title:\"Biogeoclimatic Map - Generalized (1:20K)\" type:Feature Layer Collection owner:Province.Of.British.Columbia>,\n",
       " <Item title:\"Biogeoclimatic Map - Generalized (1:250K)\" type:Feature Layer Collection owner:Province.Of.British.Columbia>,\n",
       " <Item title:\"SBOT - Grizzly Bear - FS - Ecosection Biogeoclimatic Variant Capability\" type:Feature Layer Collection owner:JDSANDER_governmentofbc>,\n",
       " <Item title:\"Terrestrial Protected Areas Representation by Biogeoclimatic Zone\" type:Feature Layer Collection owner:Province.Of.British.Columbia>,\n",
       " <Item title:\"Biogeoclimatic Map - Labels\" type:Feature Layer Collection owner:Province.Of.British.Columbia>,\n",
       " <Item title:\"Terrestrial Protected Areas Representation by Biogeoclimatic Unit\" type:Feature Layer Collection owner:Province.Of.British.Columbia>]"
      ]
     },
     "execution_count": 10,
     "metadata": {},
     "output_type": "execute_result"
    }
   ],
   "source": [
    "bec"
   ]
  },
  {
   "cell_type": "code",
   "execution_count": 11,
   "metadata": {},
   "outputs": [
    {
     "name": "stdout",
     "output_type": "stream",
     "text": [
      "368ec4631af84ad8bdd63d53eff28776\n"
     ]
    }
   ],
   "source": [
    "# lets get the itemid of the second item from previous query\n",
    "first_item = bec[1]\n",
    "known_item_id = first_item.id\n",
    "print(known_item_id)\n"
   ]
  },
  {
   "cell_type": "code",
   "execution_count": 12,
   "metadata": {},
   "outputs": [
    {
     "data": {
      "text/html": [
       "<div class=\"item_container\" style=\"height: auto; overflow: hidden; border: 1px solid #cfcfcf; border-radius: 2px; background: #f6fafa; line-height: 1.21429em; padding: 10px;\">\n",
       "                    <div class=\"item_left\" style=\"width: 210px; float: left;\">\n",
       "                       <a href='https://www.arcgis.com/home/item.html?id=368ec4631af84ad8bdd63d53eff28776' target='_blank'>\n",
       "                        <img src='https://www.arcgis.com/sharing/rest//content/items/368ec4631af84ad8bdd63d53eff28776/info/thumbnail/ago_downloaded.png' class=\"itemThumbnail\">\n",
       "                       </a>\n",
       "                    </div>\n",
       "\n",
       "                    <div class=\"item_right\"     style=\"float: none; width: auto; overflow: hidden;\">\n",
       "                        <a href='https://www.arcgis.com/home/item.html?id=368ec4631af84ad8bdd63d53eff28776' target='_blank'><b>Biogeoclimatic Ecosystem Classification ( BEC ) Map</b>\n",
       "                        </a>\n",
       "                        <br/>The current and most detailed version of the approved corporate provinci...<img src='https://www.arcgis.com/home/js/jsapi/esri/css/images/item_type_icons/featureshosted16.png' style=\"vertical-align:middle;\">Feature Layer Collection by Province.Of.British.Columbia\n",
       "                        <br/>Last Modified: April 05, 2019\n",
       "                        <br/>0 comments, 2,509 views\n",
       "                    </div>\n",
       "                </div>\n",
       "                "
      ],
      "text/plain": [
       "<Item title:\"Biogeoclimatic Ecosystem Classification ( BEC ) Map\" type:Feature Layer Collection owner:Province.Of.British.Columbia>"
      ]
     },
     "execution_count": 12,
     "metadata": {},
     "output_type": "execute_result"
    }
   ],
   "source": [
    "# lets use the get() to access this item\n",
    "online_historic_item = gis.content.get(known_item_id)\n",
    "online_historic_item"
   ]
  },
  {
   "cell_type": "code",
   "execution_count": 15,
   "metadata": {},
   "outputs": [],
   "source": [
    "lyr_url = 'https://maps.gov.bc.ca/arcserver/rest/services/mpcm/bcgwpub/MapServer/38'"
   ]
  },
  {
   "cell_type": "code",
   "execution_count": 16,
   "metadata": {},
   "outputs": [],
   "source": [
    "bec_layer = FeatureLayer(lyr_url)"
   ]
  },
  {
   "cell_type": "code",
   "execution_count": 17,
   "metadata": {},
   "outputs": [
    {
     "data": {
      "text/plain": [
       "<FeatureLayer url:\"https://maps.gov.bc.ca/arcserver/rest/services/mpcm/bcgwpub/MapServer/38\">"
      ]
     },
     "execution_count": 17,
     "metadata": {},
     "output_type": "execute_result"
    }
   ],
   "source": [
    "bec_layer"
   ]
  },
  {
   "cell_type": "code",
   "execution_count": null,
   "metadata": {},
   "outputs": [],
   "source": []
  }
 ],
 "metadata": {
  "kernelspec": {
   "display_name": "Python 3",
   "language": "python",
   "name": "python3"
  },
  "language_info": {
   "codemirror_mode": {
    "name": "ipython",
    "version": 3
   },
   "file_extension": ".py",
   "mimetype": "text/x-python",
   "name": "python",
   "nbconvert_exporter": "python",
   "pygments_lexer": "ipython3",
   "version": "3.6.6"
  }
 },
 "nbformat": 4,
 "nbformat_minor": 2
}
