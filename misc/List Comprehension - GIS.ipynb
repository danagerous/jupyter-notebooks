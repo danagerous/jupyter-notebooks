{
 "cells": [
  {
   "cell_type": "markdown",
   "metadata": {},
   "source": [
    "### GIS specific List Comprehension Example"
   ]
  },
  {
   "cell_type": "code",
   "execution_count": null,
   "metadata": {},
   "outputs": [],
   "source": [
    "import arcpy\n",
    "from arcpy import env"
   ]
  },
  {
   "cell_type": "markdown",
   "metadata": {},
   "source": [
    "### Set environment"
   ]
  },
  {
   "cell_type": "code",
   "execution_count": null,
   "metadata": {},
   "outputs": [],
   "source": [
    "path = \"/path/to/folder/Default.gdb\"\n",
    "env.workspace = path\n",
    "arcpy.env.overwriteOutput = True"
   ]
  },
  {
   "cell_type": "markdown",
   "metadata": {},
   "source": [
    "### Create Variables"
   ]
  },
  {
   "cell_type": "code",
   "execution_count": null,
   "metadata": {},
   "outputs": [],
   "source": [
    "bec = \"BEC_BIOGEOCLIMATIC_20K_SPG\"\n",
    "frqTbl = \"becLUT\"\n",
    "tmpTbl = \"tempBecTbl\""
   ]
  },
  {
   "cell_type": "markdown",
   "metadata": {},
   "source": [
    "### BEC list for analysis"
   ]
  },
  {
   "cell_type": "code",
   "execution_count": null,
   "metadata": {},
   "outputs": [],
   "source": [
    "becList = ['BG','PP','IDF','MS','ESSF','ICH','CWH']"
   ]
  },
  {
   "cell_type": "markdown",
   "metadata": {},
   "source": [
    "### Print the list"
   ]
  },
  {
   "cell_type": "code",
   "execution_count": null,
   "metadata": {},
   "outputs": [],
   "source": [
    "becList"
   ]
  },
  {
   "cell_type": "markdown",
   "metadata": {},
   "source": [
    "### To make the BEC table smaller I use `Frequency` tool to sum up the BEC table by `MAP_LABEL`."
   ]
  },
  {
   "cell_type": "code",
   "execution_count": null,
   "metadata": {},
   "outputs": [],
   "source": [
    "arcpy.Frequency_analysis(bec, frqTbl, \"'MAP_LABEL'\")"
   ]
  },
  {
   "cell_type": "markdown",
   "metadata": {},
   "source": [
    "### In order to use the `SelectLayerByAttribute` tool we need to create a temporary table."
   ]
  },
  {
   "cell_type": "code",
   "execution_count": null,
   "metadata": {},
   "outputs": [],
   "source": [
    "arcpy.MakeTableView_management(frqTbl, tmpTbl)"
   ]
  },
  {
   "cell_type": "markdown",
   "metadata": {},
   "source": [
    "### If we try to select attributes from the MAP_LABEL field in the BEC table it not select all attributes. Only attributes with the BEC Zones but non of the SubZones and variants."
   ]
  },
  {
   "cell_type": "code",
   "execution_count": null,
   "metadata": {},
   "outputs": [],
   "source": [
    "for s in becList:\n",
    "    where_clause = \"MAP_LABEL LIKE '\"+s+\"'\"\n",
    "    arcpy.SelectLayerByAttribute_management(tmpTbl,\"ADD_TO_SELECTION\",where_clause)\n",
    "    \n",
    "\n",
    "results = int(arcpy.GetCount_management(tmpTbl).getOutput(0))\n",
    "print (\"The new selection yielded {0} rows.\".format(results))"
   ]
  },
  {
   "cell_type": "markdown",
   "metadata": {},
   "source": [
    "### This returns zero rows because the `LIKE` operator needs the wildcard (`%`) in order to function and the wildcard is not included in our list. We need to add a wildcard `%` to each item in the list to account for additional characters that represent subzones and variants in the spatial BEC table using the field `MAP_LABEL`.\n",
    "### This can be done with List Comprehension. In this case List comprehension creates a new list from our existing list\n",
    "- `x+'%'` is the output function\n",
    "- `x` is the variable\n",
    "- `becList` is the input set"
   ]
  },
  {
   "cell_type": "code",
   "execution_count": null,
   "metadata": {},
   "outputs": [],
   "source": [
    "newList = [x+'%' for x in becList] "
   ]
  },
  {
   "cell_type": "markdown",
   "metadata": {},
   "source": [
    "### Print the new list"
   ]
  },
  {
   "cell_type": "code",
   "execution_count": null,
   "metadata": {},
   "outputs": [],
   "source": [
    "newList"
   ]
  },
  {
   "cell_type": "markdown",
   "metadata": {},
   "source": [
    "### Now using the new list with wildcard we can select against the provincial BEC layer."
   ]
  },
  {
   "cell_type": "code",
   "execution_count": null,
   "metadata": {},
   "outputs": [],
   "source": [
    "for b in newList:\n",
    "    where_clause = \"MAP_LABEL LIKE '\"+b+\"'\"\n",
    "    arcpy.SelectLayerByAttribute_management(tmpTbl,\"ADD_TO_SELECTION\",where_clause)\n",
    "    \n",
    "results = int(arcpy.GetCount_management(tmpTbl).getOutput(0))\n",
    "print (\"The new selection yielded {0} rows.\".format(results))"
   ]
  },
  {
   "cell_type": "markdown",
   "metadata": {},
   "source": [
    "### Here we can see that by appending the wildcard `%` to our list we ensure that all BEC zones including their subzones and variants are selected from the table. For the final step we can export this selection to a table we can now use for analysis."
   ]
  },
  {
   "cell_type": "code",
   "execution_count": null,
   "metadata": {},
   "outputs": [],
   "source": [
    "arcpy.CopyRows_management(tmpTbl, \"finalBecTable\")"
   ]
  },
  {
   "cell_type": "code",
   "execution_count": null,
   "metadata": {},
   "outputs": [],
   "source": []
  }
 ],
 "metadata": {
  "kernelspec": {
   "display_name": "Python 3",
   "language": "python",
   "name": "python3"
  },
  "language_info": {
   "codemirror_mode": {
    "name": "ipython",
    "version": 3
   },
   "file_extension": ".py",
   "mimetype": "text/x-python",
   "name": "python",
   "nbconvert_exporter": "python",
   "pygments_lexer": "ipython3",
   "version": "3.7.4"
  }
 },
 "nbformat": 4,
 "nbformat_minor": 2
}
