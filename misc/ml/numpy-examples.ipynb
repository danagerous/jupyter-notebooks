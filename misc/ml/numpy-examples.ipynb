{
 "cells": [
  {
   "cell_type": "markdown",
   "metadata": {},
   "source": [
    "__At minimum install *SciPy, NumPy, Matplotlib and Pandas* for these and future examples.__\n",
    "\n",
    "__If using *Jupyter* ensure it is also installed.__ \n",
    "\n",
    "__If using *Jupyter* from within ```pipenv``` install *ipkernel* only to access the packages in the ```pipenv``` shell.__\n",
    "\n",
    "Here we go..."
   ]
  },
  {
   "cell_type": "code",
   "execution_count": 1,
   "metadata": {},
   "outputs": [],
   "source": [
    "import numpy as np\n",
    "import matplotlib.pyplot as plt\n",
    "import pandas as pd"
   ]
  },
  {
   "cell_type": "markdown",
   "metadata": {},
   "source": [
    "### NumPy"
   ]
  },
  {
   "cell_type": "markdown",
   "metadata": {},
   "source": [
    "NumPy’s main object is the homogeneous multidimensional array. NumPy provides the foundation data structures and operations for SciPy. These are arrays (ndarrays) that are efficient to define and manipulate. NumPy is faster and uses memory more efficiently thant Python lists which are also arrays.\n",
    "\n",
    "Let's create an NumPy array"
   ]
  },
  {
   "cell_type": "code",
   "execution_count": 2,
   "metadata": {},
   "outputs": [
    {
     "name": "stdout",
     "output_type": "stream",
     "text": [
      "[1 2 3]\n"
     ]
    }
   ],
   "source": [
    "# define an array\n",
    "mylist = [1, 2, 3] # One-dimensional array\n",
    "myarray = np.array(mylist)\n",
    "print(myarray)"
   ]
  },
  {
   "cell_type": "code",
   "execution_count": 3,
   "metadata": {},
   "outputs": [
    {
     "name": "stdout",
     "output_type": "stream",
     "text": [
      "(3,)\n"
     ]
    }
   ],
   "source": [
    "print(myarray.shape)"
   ]
  },
  {
   "cell_type": "markdown",
   "metadata": {},
   "source": [
    "Notice how we easily converted a Python list to a NumPy array."
   ]
  },
  {
   "cell_type": "markdown",
   "metadata": {},
   "source": [
    "Array notation and ranges can be used to efficiently access data in a NumPy array.\n",
    "\n",
    "Let's work with the NumPy array."
   ]
  },
  {
   "cell_type": "code",
   "execution_count": 8,
   "metadata": {},
   "outputs": [
    {
     "name": "stdout",
     "output_type": "stream",
     "text": [
      "[[1 2 3]\n",
      " [3 4 5]]\n"
     ]
    }
   ],
   "source": [
    "# access values\n",
    "mylist = [[1, 2, 3], [3, 4, 5]] # Two-dimensional array\n",
    "myarray = np.array(mylist)\n",
    "print(myarray)"
   ]
  },
  {
   "cell_type": "code",
   "execution_count": 5,
   "metadata": {},
   "outputs": [
    {
     "name": "stdout",
     "output_type": "stream",
     "text": [
      "(2, 3)\n"
     ]
    }
   ],
   "source": [
    "print(myarray.shape)"
   ]
  },
  {
   "cell_type": "code",
   "execution_count": 6,
   "metadata": {},
   "outputs": [
    {
     "name": "stdout",
     "output_type": "stream",
     "text": [
      "First row: [1 2 3]\n"
     ]
    }
   ],
   "source": [
    "print(\"First row: %s\" % myarray[0])"
   ]
  },
  {
   "cell_type": "code",
   "execution_count": 7,
   "metadata": {},
   "outputs": [
    {
     "name": "stdout",
     "output_type": "stream",
     "text": [
      "Last row: [3 4 5]\n"
     ]
    }
   ],
   "source": [
    "print(\"Last row: %s\" % myarray[-1])"
   ]
  },
  {
   "cell_type": "code",
   "execution_count": 9,
   "metadata": {},
   "outputs": [
    {
     "name": "stdout",
     "output_type": "stream",
     "text": [
      "Specific row and col: 3\n"
     ]
    }
   ],
   "source": [
    "print(\"Specific row and col: %s\" % myarray[0, 2])"
   ]
  },
  {
   "cell_type": "code",
   "execution_count": 10,
   "metadata": {},
   "outputs": [
    {
     "name": "stdout",
     "output_type": "stream",
     "text": [
      "Whole col: [3 5]\n"
     ]
    }
   ],
   "source": [
    "print(\"Whole col: %s\" % myarray[:, 2])"
   ]
  },
  {
   "cell_type": "markdown",
   "metadata": {},
   "source": [
    "NumPy arrays can be used directly in arithmetic."
   ]
  },
  {
   "cell_type": "code",
   "execution_count": 11,
   "metadata": {},
   "outputs": [
    {
     "name": "stdout",
     "output_type": "stream",
     "text": [
      "Addition: [5 5 5]\n"
     ]
    }
   ],
   "source": [
    "# arithmetic\n",
    "myarray1 = np.array([2, 2, 2])\n",
    "myarray2 = np.array([3, 3, 3])\n",
    "print(\"Addition: %s\" % (myarray1 + myarray2))"
   ]
  },
  {
   "cell_type": "code",
   "execution_count": 12,
   "metadata": {},
   "outputs": [
    {
     "name": "stdout",
     "output_type": "stream",
     "text": [
      "Multiplication: [6 6 6]\n"
     ]
    }
   ],
   "source": [
    "print(\"Multiplication: %s\" % (myarray1 * myarray2))"
   ]
  },
  {
   "cell_type": "markdown",
   "metadata": {},
   "source": [
    "There is a lot more to NumPy arrays but these examples give you a flavor of the efficiencies they provide when working with lots of numerical data."
   ]
  },
  {
   "cell_type": "markdown",
   "metadata": {},
   "source": [
    "---\n",
    "__Now let's tie *NumPy* in with the previous *Pandas/Matplotlib* talk.__\n",
    "\n",
    "__*Pyplot* is a *Matplotlib* module to manipulate elements of a figure, such as creating a figure, creating a plotting area, plotting lines, adding plot labels, etc.__\n",
    "\n",
    "---"
   ]
  },
  {
   "cell_type": "markdown",
   "metadata": {},
   "source": [
    "### Matplotlib & NumPy"
   ]
  },
  {
   "cell_type": "markdown",
   "metadata": {},
   "source": [
    "The example below creates a simple line plot from one dimensional data."
   ]
  },
  {
   "cell_type": "code",
   "execution_count": 13,
   "metadata": {},
   "outputs": [
    {
     "data": {
      "image/png": "[encoded data removed]",
      "text/plain": [
       "<Figure size 432x288 with 1 Axes>"
      ]
     },
     "metadata": {
      "needs_background": "light"
     },
     "output_type": "display_data"
    }
   ],
   "source": [
    "# basic line plot\n",
    "myarray = np.array([1, 2, 3]) # One-dimensional array\n",
    "plt.plot(myarray) \n",
    "plt.xlabel('some x axis') \n",
    "plt.ylabel('some y axis') \n",
    "plt.show()"
   ]
  },
  {
   "cell_type": "markdown",
   "metadata": {},
   "source": [
    "Below is a simple example of creating a scatter plot from two dimensional data."
   ]
  },
  {
   "cell_type": "code",
   "execution_count": 14,
   "metadata": {},
   "outputs": [
    {
     "data": {
      "image/png": "[encoded data removed]",
      "text/plain": [
       "<Figure size 432x288 with 1 Axes>"
      ]
     },
     "metadata": {
      "needs_background": "light"
     },
     "output_type": "display_data"
    }
   ],
   "source": [
    "# basic scatter plot\n",
    "x = np.array([1, 2, 3]) # One-dimensional array\n",
    "y = np.array([2, 4, 6]) # One-dimensional array\n",
    "plt.scatter(x,y) \n",
    "plt.xlabel('some x axis') \n",
    "plt.ylabel('some y axis') \n",
    "plt.show()"
   ]
  },
  {
   "cell_type": "markdown",
   "metadata": {},
   "source": [
    "### Pandas & NumPy"
   ]
  },
  {
   "cell_type": "markdown",
   "metadata": {},
   "source": [
    "A series is a one dimensional array of data where the rows are labeled using a time axis."
   ]
  },
  {
   "cell_type": "code",
   "execution_count": 16,
   "metadata": {},
   "outputs": [
    {
     "name": "stdout",
     "output_type": "stream",
     "text": [
      "[1 2 3]\n"
     ]
    }
   ],
   "source": [
    "# series\n",
    "myarray = np.array([1, 2, 3]) # One-dimensional array\n",
    "rownames = ['a', 'b', 'c']\n",
    "myseries = pd.Series(myarray, index=rownames)\n",
    "print(myseries.values)"
   ]
  },
  {
   "cell_type": "markdown",
   "metadata": {},
   "source": [
    "You can access the data in a series like a NumPy array and like a dictionary, for example:"
   ]
  },
  {
   "cell_type": "code",
   "execution_count": 17,
   "metadata": {},
   "outputs": [
    {
     "name": "stdout",
     "output_type": "stream",
     "text": [
      "1\n"
     ]
    }
   ],
   "source": [
    "print(myseries[0])"
   ]
  },
  {
   "cell_type": "markdown",
   "metadata": {},
   "source": [
    "Or like this"
   ]
  },
  {
   "cell_type": "code",
   "execution_count": 18,
   "metadata": {},
   "outputs": [
    {
     "name": "stdout",
     "output_type": "stream",
     "text": [
      "1\n"
     ]
    }
   ],
   "source": [
    "print(myseries['a'])"
   ]
  },
  {
   "cell_type": "markdown",
   "metadata": {},
   "source": [
    "A data frame is a multi-dimensional array where the rows and the columns can be labeled."
   ]
  },
  {
   "cell_type": "code",
   "execution_count": 19,
   "metadata": {},
   "outputs": [
    {
     "name": "stdout",
     "output_type": "stream",
     "text": [
      "   one  two  three\n",
      "a    1    2      3\n",
      "b    4    5      6\n"
     ]
    }
   ],
   "source": [
    "myarray = np.array([[1, 2, 3], [4, 5, 6]]) # Two-dimensional array\n",
    "rownames = ['a', 'b']\n",
    "colnames = ['one', 'two', 'three']\n",
    "mydataframe = pd.DataFrame(myarray, index=rownames, columns=colnames)\n",
    "print(mydataframe)"
   ]
  },
  {
   "cell_type": "markdown",
   "metadata": {},
   "source": [
    "Data can be indexed using column names.\n",
    "\n",
    "Here we are accessing data in the Pandas DataFrame"
   ]
  },
  {
   "cell_type": "code",
   "execution_count": 20,
   "metadata": {},
   "outputs": [
    {
     "name": "stdout",
     "output_type": "stream",
     "text": [
      "method 1:\n",
      "one column:\n",
      "[1 4]\n"
     ]
    }
   ],
   "source": [
    "print(\"method 1:\")\n",
    "print(\"one column:\\n%s\" % mydataframe['one'].values)"
   ]
  },
  {
   "cell_type": "markdown",
   "metadata": {},
   "source": [
    "Or like this"
   ]
  },
  {
   "cell_type": "code",
   "execution_count": 21,
   "metadata": {},
   "outputs": [
    {
     "name": "stdout",
     "output_type": "stream",
     "text": [
      "method 2:\n",
      "one column:\n",
      "[1 4]\n"
     ]
    }
   ],
   "source": [
    "print(\"method 2:\")\n",
    "print(\"one column:\\n%s\" % (mydataframe.one).values)"
   ]
  },
  {
   "cell_type": "markdown",
   "metadata": {},
   "source": [
    "That's it folks. \n",
    "\n",
    "Here we discovered basic syntax of three key Python libraries which we will revisit in the next talk for machine learning:\n",
    "* NumPy\n",
    "* Matplotlib\n",
    "* Pandas\n",
    "\n",
    "The NumPy documentation is excellent (and deep) but you probably don't need it unless you are doing something exotic.\n",
    "\n",
    "NumPy User Guide:\n",
    "https://docs.scipy.org/doc/numpy/user/\n",
    "\n",
    "This is a great resource for understanding NumPy arrays: https://jakevdp.github.io/PythonDataScienceHandbook/02.02-the-basics-of-numpy-arrays.html"
   ]
  },
  {
   "cell_type": "code",
   "execution_count": null,
   "metadata": {},
   "outputs": [],
   "source": []
  }
 ],
 "metadata": {
  "kernelspec": {
   "display_name": "ml",
   "language": "python",
   "name": "ml"
  },
  "language_info": {
   "codemirror_mode": {
    "name": "ipython",
    "version": 3
   },
   "file_extension": ".py",
   "mimetype": "text/x-python",
   "name": "python",
   "nbconvert_exporter": "python",
   "pygments_lexer": "ipython3",
   "version": "3.7.4"
  }
 },
 "nbformat": 4,
 "nbformat_minor": 2
}
